{
 "cells": [
  {
   "cell_type": "markdown",
   "metadata": {},
   "source": [
    "<h1> Welcome to the Titanic data analysis - Udacity ITP Nanodegree </h1>"
   ]
  },
  {
   "cell_type": "markdown",
   "metadata": {},
   "source": [
    "<p> This is the \"Investigate a Dataset\" project, part of Introduction to Programming Nanodegree. \n",
    "In this project, a given dataset (Titanic data from Kaggle.com) will be analyzed using the Python libraries NumPy, Pandas, and Matplotlib.<br>\n",
    "Before beginning it is already possible to create some questions: \n",
    "<ul>\n",
    "<li>How many exactly survived?</li>\n",
    "<li>What was the mean age among passengers?</li>\n",
    "<li>How expensive were the tickets?</li>\n",
    "<li>It is well known that Titanic was a luxurious ship. But, what was the most 'populated' class?</li>\n",
    "<li>There was more women or men onboard?</li>\n",
    "</ul><br>\n",
    "Without further ado, let's start:\n",
    "</p>"
   ]
  },
  {
   "cell_type": "code",
   "execution_count": 1,
   "metadata": {
    "collapsed": false
   },
   "outputs": [],
   "source": [
    "#Import libraries \n",
    "import pandas as pd\n",
    "import numpy as np\n",
    "import matplotlib.pyplot as plt\n",
    "from matplotlib import cm\n",
    "from scipy import stats\n",
    "import statsmodels.api as sm\n",
    "%matplotlib inline "
   ]
  },
  {
   "cell_type": "code",
   "execution_count": 2,
   "metadata": {
    "collapsed": false
   },
   "outputs": [
    {
     "name": "stdout",
     "output_type": "stream",
     "text": [
      "   PassengerId  Survived  Pclass  \\\n",
      "0            1         0       3   \n",
      "1            2         1       1   \n",
      "2            3         1       3   \n",
      "3            4         1       1   \n",
      "4            5         0       3   \n",
      "\n",
      "                                                Name     Sex   Age  SibSp  \\\n",
      "0                            Braund, Mr. Owen Harris    male  22.0      1   \n",
      "1  Cumings, Mrs. John Bradley (Florence Briggs Th...  female  38.0      1   \n",
      "2                             Heikkinen, Miss. Laina  female  26.0      0   \n",
      "3       Futrelle, Mrs. Jacques Heath (Lily May Peel)  female  35.0      1   \n",
      "4                           Allen, Mr. William Henry    male  35.0      0   \n",
      "\n",
      "   Parch            Ticket     Fare Cabin Embarked  \n",
      "0      0         A/5 21171   7.2500   NaN        S  \n",
      "1      0          PC 17599  71.2833   C85        C  \n",
      "2      0  STON/O2. 3101282   7.9250   NaN        S  \n",
      "3      0            113803  53.1000  C123        S  \n",
      "4      0            373450   8.0500   NaN        S  \n"
     ]
    }
   ],
   "source": [
    "#Load data and check how data looks like\n",
    "data = '/home/camila/Desktop/Titanic/titanic_data.csv'\n",
    "df_titanic = pd.read_csv(data)\n",
    "\n",
    "print(df_titanic.head())"
   ]
  },
  {
   "cell_type": "code",
   "execution_count": 3,
   "metadata": {
    "collapsed": false
   },
   "outputs": [
    {
     "name": "stdout",
     "output_type": "stream",
     "text": [
      "PassengerId      0\n",
      "Survived         0\n",
      "Pclass           0\n",
      "Name             0\n",
      "Sex              0\n",
      "Age            177\n",
      "SibSp            0\n",
      "Parch            0\n",
      "Ticket           0\n",
      "Fare             0\n",
      "Cabin          687\n",
      "Embarked         2\n",
      "dtype: int64\n"
     ]
    }
   ],
   "source": [
    "#Check if any data is missing\n",
    "print(df_titanic.isnull().sum())"
   ]
  },
  {
   "cell_type": "markdown",
   "metadata": {},
   "source": [
    "<p> It looks like a lot of information on age and cabin is missing. There are many ways to deal with missing data. One of the most straight forward methods is to simply replace the missing values with the mean. This method, of course, does not change the mean, but attenuates any correlations involving the variable(s) that are imputed. </p>\n",
    "<a href= 'https://en.wikipedia.org/wiki/Imputation_(statistics)'> Source</a>"
   ]
  },
  {
   "cell_type": "code",
   "execution_count": 4,
   "metadata": {
    "collapsed": false
   },
   "outputs": [
    {
     "name": "stdout",
     "output_type": "stream",
     "text": [
      "PassengerId      0\n",
      "Survived         0\n",
      "Pclass           0\n",
      "Name             0\n",
      "Sex              0\n",
      "Age              0\n",
      "SibSp            0\n",
      "Parch            0\n",
      "Ticket           0\n",
      "Fare             0\n",
      "Cabin          687\n",
      "Embarked         2\n",
      "dtype: int64\n"
     ]
    }
   ],
   "source": [
    "#Let's replace missing age values by the mean:\n",
    "mean_age = df_titanic['Age'].mean()\n",
    "df_titanic['Age'] = df_titanic['Age'].fillna(mean_age)\n",
    "print(df_titanic.isnull().sum())"
   ]
  },
  {
   "cell_type": "code",
   "execution_count": 5,
   "metadata": {
    "collapsed": false
   },
   "outputs": [
    {
     "name": "stdout",
     "output_type": "stream",
     "text": [
      "False\n"
     ]
    }
   ],
   "source": [
    "#Now, check if any data is duplicated\n",
    "print(df_titanic.duplicated().any())"
   ]
  },
  {
   "cell_type": "markdown",
   "metadata": {},
   "source": [
    "<h2> Let's now take a look at overall survival rate and more:</h2>"
   ]
  },
  {
   "cell_type": "code",
   "execution_count": 6,
   "metadata": {
    "collapsed": false
   },
   "outputs": [
    {
     "data": {
      "text/html": [
       "<div>\n",
       "<table border=\"1\" class=\"dataframe\">\n",
       "  <thead>\n",
       "    <tr style=\"text-align: right;\">\n",
       "      <th></th>\n",
       "      <th>PassengerId</th>\n",
       "      <th>Survived</th>\n",
       "      <th>Pclass</th>\n",
       "      <th>Age</th>\n",
       "      <th>SibSp</th>\n",
       "      <th>Parch</th>\n",
       "      <th>Fare</th>\n",
       "    </tr>\n",
       "  </thead>\n",
       "  <tbody>\n",
       "    <tr>\n",
       "      <th>count</th>\n",
       "      <td>891.000000</td>\n",
       "      <td>891.000000</td>\n",
       "      <td>891.000000</td>\n",
       "      <td>891.000000</td>\n",
       "      <td>891.000000</td>\n",
       "      <td>891.000000</td>\n",
       "      <td>891.000000</td>\n",
       "    </tr>\n",
       "    <tr>\n",
       "      <th>mean</th>\n",
       "      <td>446.000000</td>\n",
       "      <td>0.383838</td>\n",
       "      <td>2.308642</td>\n",
       "      <td>29.699118</td>\n",
       "      <td>0.523008</td>\n",
       "      <td>0.381594</td>\n",
       "      <td>32.204208</td>\n",
       "    </tr>\n",
       "    <tr>\n",
       "      <th>std</th>\n",
       "      <td>257.353842</td>\n",
       "      <td>0.486592</td>\n",
       "      <td>0.836071</td>\n",
       "      <td>13.002015</td>\n",
       "      <td>1.102743</td>\n",
       "      <td>0.806057</td>\n",
       "      <td>49.693429</td>\n",
       "    </tr>\n",
       "    <tr>\n",
       "      <th>min</th>\n",
       "      <td>1.000000</td>\n",
       "      <td>0.000000</td>\n",
       "      <td>1.000000</td>\n",
       "      <td>0.420000</td>\n",
       "      <td>0.000000</td>\n",
       "      <td>0.000000</td>\n",
       "      <td>0.000000</td>\n",
       "    </tr>\n",
       "    <tr>\n",
       "      <th>25%</th>\n",
       "      <td>223.500000</td>\n",
       "      <td>0.000000</td>\n",
       "      <td>2.000000</td>\n",
       "      <td>22.000000</td>\n",
       "      <td>0.000000</td>\n",
       "      <td>0.000000</td>\n",
       "      <td>7.910400</td>\n",
       "    </tr>\n",
       "    <tr>\n",
       "      <th>50%</th>\n",
       "      <td>446.000000</td>\n",
       "      <td>0.000000</td>\n",
       "      <td>3.000000</td>\n",
       "      <td>29.699118</td>\n",
       "      <td>0.000000</td>\n",
       "      <td>0.000000</td>\n",
       "      <td>14.454200</td>\n",
       "    </tr>\n",
       "    <tr>\n",
       "      <th>75%</th>\n",
       "      <td>668.500000</td>\n",
       "      <td>1.000000</td>\n",
       "      <td>3.000000</td>\n",
       "      <td>35.000000</td>\n",
       "      <td>1.000000</td>\n",
       "      <td>0.000000</td>\n",
       "      <td>31.000000</td>\n",
       "    </tr>\n",
       "    <tr>\n",
       "      <th>max</th>\n",
       "      <td>891.000000</td>\n",
       "      <td>1.000000</td>\n",
       "      <td>3.000000</td>\n",
       "      <td>80.000000</td>\n",
       "      <td>8.000000</td>\n",
       "      <td>6.000000</td>\n",
       "      <td>512.329200</td>\n",
       "    </tr>\n",
       "  </tbody>\n",
       "</table>\n",
       "</div>"
      ],
      "text/plain": [
       "       PassengerId    Survived      Pclass         Age       SibSp  \\\n",
       "count   891.000000  891.000000  891.000000  891.000000  891.000000   \n",
       "mean    446.000000    0.383838    2.308642   29.699118    0.523008   \n",
       "std     257.353842    0.486592    0.836071   13.002015    1.102743   \n",
       "min       1.000000    0.000000    1.000000    0.420000    0.000000   \n",
       "25%     223.500000    0.000000    2.000000   22.000000    0.000000   \n",
       "50%     446.000000    0.000000    3.000000   29.699118    0.000000   \n",
       "75%     668.500000    1.000000    3.000000   35.000000    1.000000   \n",
       "max     891.000000    1.000000    3.000000   80.000000    8.000000   \n",
       "\n",
       "            Parch        Fare  \n",
       "count  891.000000  891.000000  \n",
       "mean     0.381594   32.204208  \n",
       "std      0.806057   49.693429  \n",
       "min      0.000000    0.000000  \n",
       "25%      0.000000    7.910400  \n",
       "50%      0.000000   14.454200  \n",
       "75%      0.000000   31.000000  \n",
       "max      6.000000  512.329200  "
      ]
     },
     "execution_count": 6,
     "metadata": {},
     "output_type": "execute_result"
    }
   ],
   "source": [
    "df_titanic.describe()"
   ]
  },
  {
   "cell_type": "markdown",
   "metadata": {},
   "source": [
    "<p>It is possible to come to some observations:\n",
    "<ul>\n",
    "<li>The mean age was around 29 years (with high standard deviation of 14.52).</li>\n",
    "<li>It looks like some passengers were travelling for free (Fare = 0.0), but, how many? <br>\n",
    "Curiosity: on average passengers paid £32.20, this would cost £3477.60 in today's money.</li>\n",
    "<li> From this preliminary numbers, it is hard to say anything about family status, class, etc.</li>\n",
    "</ul> \n",
    "</p>\n"
   ]
  },
  {
   "cell_type": "code",
   "execution_count": 7,
   "metadata": {
    "collapsed": false
   },
   "outputs": [
    {
     "name": "stdout",
     "output_type": "stream",
     "text": [
      "   index  Survived\n",
      "0      0       549\n",
      "1      1       342\n"
     ]
    }
   ],
   "source": [
    "#How many exactly survived? Answer: 342 people.\n",
    "print(df_titanic['Survived'].value_counts().reset_index())"
   ]
  },
  {
   "cell_type": "code",
   "execution_count": 8,
   "metadata": {
    "collapsed": false
   },
   "outputs": [
    {
     "name": "stdout",
     "output_type": "stream",
     "text": [
      "      index  Fare\n",
      "9    0.0000    15\n",
      "180  4.0125     1\n",
      "192  5.0000     1\n",
      "200  6.2375     1\n",
      "187  6.4375     1\n",
      "        index  Fare\n",
      "47   227.5250     4\n",
      "146  247.5208     2\n",
      "141  262.3750     2\n",
      "55   263.0000     4\n",
      "77   512.3292     3\n"
     ]
    }
   ],
   "source": [
    "#How many were traveling for free? And how many paid the most? Answer: 15 and 3 people, in this order. \n",
    "fare = df_titanic['Fare'].value_counts().reset_index()\n",
    "fare_sorted = fare.sort_values(by=['index'], ascending=True)\n",
    "print(fare_sorted.head())\n",
    "print(fare_sorted.tail())"
   ]
  },
  {
   "cell_type": "code",
   "execution_count": 9,
   "metadata": {
    "collapsed": false
   },
   "outputs": [
    {
     "data": {
      "image/png": "[encoded data removed]",
      "text/plain": [
       "<matplotlib.figure.Figure at 0x7fae1982a5c0>"
      ]
     },
     "metadata": {},
     "output_type": "display_data"
    }
   ],
   "source": [
    "#Let's check how the variable Fare is distributed:\n",
    "\n",
    "data_fare = df_titanic['Fare']\n",
    "\n",
    "fig = plt.figure()\n",
    "\n",
    "ax = fig.add_subplot(111)\n",
    "ax.boxplot(data_fare)\n",
    "\n",
    "ax.set_xlabel('Fare')\n",
    "ax.set_ylabel('Fare price')\n",
    "ax.set_title('Fare boxplot')\n",
    "\n",
    "plt.show()"
   ]
  },
  {
   "cell_type": "markdown",
   "metadata": {},
   "source": [
    "<p>It is easy to see that there is an 'outlier'. </p>"
   ]
  },
  {
   "cell_type": "code",
   "execution_count": 10,
   "metadata": {
    "collapsed": false
   },
   "outputs": [
    {
     "data": {
      "image/png": "[encoded data removed]",
      "text/plain": [
       "<matplotlib.figure.Figure at 0x7fae1975d518>"
      ]
     },
     "metadata": {},
     "output_type": "display_data"
    }
   ],
   "source": [
    "#Continuying, fare prices divided by classes:\n",
    "first_class = df_titanic.loc[ df_titanic['Pclass'] == 1]\n",
    "second_class = df_titanic.loc[ df_titanic['Pclass'] ==2]\n",
    "third_class = df_titanic.loc[ df_titanic['Pclass'] == 3]\n",
    "data_classes = (first_class['Fare'], second_class['Fare'], third_class['Fare'])\n",
    "\n",
    "fig = plt.figure()\n",
    "\n",
    "ax = fig.add_subplot(111)\n",
    "ax.boxplot(data_classes)\n",
    "\n",
    "ax.set_xlabel('Classes')\n",
    "ax.set_ylabel('Fare price')\n",
    "ax.set_title('Fare boxplot divided by classes')\n",
    "\n",
    "\n",
    "plt.show()"
   ]
  },
  {
   "cell_type": "markdown",
   "metadata": {},
   "source": [
    "<p> It looks like some people paid an unfairly expensive ticket price. However, it is not only a matter of \"abusive pricing\": outliers may mislead our data interpretation.</p>"
   ]
  },
  {
   "cell_type": "code",
   "execution_count": 11,
   "metadata": {
    "collapsed": false
   },
   "outputs": [
    {
     "name": "stdout",
     "output_type": "stream",
     "text": [
      "512.3292\n",
      "     PassengerId  Survived  Pclass                                Name  \\\n",
      "258          259         1       1                    Ward, Miss. Anna   \n",
      "679          680         1       1  Cardeza, Mr. Thomas Drake Martinez   \n",
      "737          738         1       1              Lesurer, Mr. Gustave J   \n",
      "\n",
      "        Sex   Age  SibSp  Parch    Ticket      Fare        Cabin Embarked  \n",
      "258  female  35.0      0      0  PC 17755  512.3292          NaN        C  \n",
      "679    male  36.0      0      1  PC 17755  512.3292  B51 B53 B55        C  \n",
      "737    male  35.0      0      0  PC 17755  512.3292         B101        C  \n"
     ]
    }
   ],
   "source": [
    "#So let's deal with the 'fare outlier'... This took me a while to realize, but turns out the 'outlier' is \n",
    "#actually more than one cell. So, we have to find a way to determine these cells and eliminate/replace it \n",
    "#accordingly. \n",
    "max_fare = df_titanic['Fare'].max()\n",
    "print(max_fare)\n",
    "max_fare_people = df_titanic.loc[ df_titanic['Fare'] == max_fare]\n",
    "print (max_fare_people)"
   ]
  },
  {
   "cell_type": "code",
   "execution_count": 12,
   "metadata": {
    "collapsed": true
   },
   "outputs": [],
   "source": [
    "#Delete outlier rows:\n",
    "df_titanic_wtout_out = df_titanic.drop(df_titanic.index[[258, 679, 737]])\n",
    "# Deleting rows causes a mess with the indexes, so it is good to reset them. Moreover,\n",
    "#I created a new variable to store the new shorter dataframe, just in case we need the complete one again.\n",
    "new_df_titanic = df_titanic_wtout_out.reset_index(drop=True)"
   ]
  },
  {
   "cell_type": "code",
   "execution_count": 13,
   "metadata": {
    "collapsed": false
   },
   "outputs": [
    {
     "data": {
      "text/plain": [
       "count    888.000000\n",
       "mean      30.582164\n",
       "std       41.176366\n",
       "min        0.000000\n",
       "25%        7.895800\n",
       "50%       14.454200\n",
       "75%       30.771850\n",
       "max      263.000000\n",
       "Name: Fare, dtype: float64"
      ]
     },
     "execution_count": 13,
     "metadata": {},
     "output_type": "execute_result"
    }
   ],
   "source": [
    "#New description of 'Fares' : \n",
    "new_df_titanic['Fare'].describe()"
   ]
  },
  {
   "cell_type": "code",
   "execution_count": 14,
   "metadata": {
    "collapsed": false
   },
   "outputs": [
    {
     "name": "stdout",
     "output_type": "stream",
     "text": [
      "male      577\n",
      "female    314\n",
      "Name: Sex, dtype: int64\n"
     ]
    }
   ],
   "source": [
    "#Moving to another variable, what was the proportion of women/men?  Answer:314/577\n",
    "print (df_titanic['Sex'].value_counts())"
   ]
  },
  {
   "cell_type": "code",
   "execution_count": 15,
   "metadata": {
    "collapsed": false
   },
   "outputs": [
    {
     "name": "stdout",
     "output_type": "stream",
     "text": [
      "   index  Pclass\n",
      "0      3     491\n",
      "1      1     216\n",
      "2      2     184\n"
     ]
    }
   ],
   "source": [
    "#What about the classes? How is this population distributed? \n",
    "#Answer: The vast majority was in the third class (491 passengers), followed by the first class (216) and \n",
    "#then second class(184).\n",
    "pclass = df_titanic['Pclass'].value_counts().reset_index()\n",
    "print (pclass)"
   ]
  },
  {
   "cell_type": "code",
   "execution_count": 16,
   "metadata": {
    "collapsed": false
   },
   "outputs": [
    {
     "name": "stdout",
     "output_type": "stream",
     "text": [
      "   index  Parch\n",
      "0      0    678\n",
      "1      1    118\n",
      "2      2     80\n",
      "3      5      5\n",
      "4      3      5\n",
      "5      4      4\n",
      "6      6      1\n"
     ]
    }
   ],
   "source": [
    "#Now let's take a look at family status. First, parents and children on board:\n",
    "parents_children = df_titanic['Parch'].value_counts().reset_index()\n",
    "siblings = df_titanic['SibSp'].value_counts().reset_index()\n",
    "print (parents_children)"
   ]
  },
  {
   "cell_type": "code",
   "execution_count": 17,
   "metadata": {
    "collapsed": false
   },
   "outputs": [
    {
     "name": "stdout",
     "output_type": "stream",
     "text": [
      "   index  SibSp\n",
      "0      0    608\n",
      "1      1    209\n",
      "2      2     28\n",
      "3      4     18\n",
      "4      3     16\n",
      "5      8      7\n",
      "6      5      5\n"
     ]
    }
   ],
   "source": [
    "#Now, let's check the number of siblings: \n",
    "print (siblings)"
   ]
  },
  {
   "cell_type": "code",
   "execution_count": 20,
   "metadata": {
    "collapsed": false
   },
   "outputs": [
    {
     "data": {
      "image/png": "[encoded data removed]",
      "text/plain": [
       "<matplotlib.figure.Figure at 0x7fae15ae92e8>"
      ]
     },
     "metadata": {},
     "output_type": "display_data"
    }
   ],
   "source": [
    "#It looks like most had no kids nor spouses travelling together with them.\n",
    "#Let's visualize:\n",
    "\n",
    "explode = (0.05, 0, 0, 0, 0, 0, 0)\n",
    "\n",
    "fig,(ax1, ax2) = plt.subplots(nrows=1, ncols=2, figsize=(10, 5))\n",
    "\n",
    "ax1.pie(siblings['SibSp'], explode=explode, labels=siblings.index)\n",
    "ax1.set_title('Number of siblings on board')\n",
    "\n",
    "ax2.pie(parents_children['Parch'], explode=explode, labels=parents_children.index)\n",
    "ax2.set_title('Number of parents/children on board')\n",
    "\n",
    "plt.show()"
   ]
  },
  {
   "cell_type": "markdown",
   "metadata": {},
   "source": [
    "<p> Finally, a comment on the ports because I had no idea what this was all about. Southampton, is a place  on the south coast of England and it was the location of the Titanic’s departure. Cherbourg in France was the first of two stops to pick up passengers. Queenstown on the South Coast of Southern Ireland was the last passenger pick-up of the Titanic. Now here is an interesting piece of information: \"at Cherbourg,twenty-four passengers who had booked passage only cross-channel from Southampton left aboard the tenders to be conveyed to shore\" and \"at Queenstown eight people left the ship and 123 joined for the onward journey\". Given these statements, I am not sure about people who survived because they left the ship before she headed to the US. </p> \n",
    "<a href = 'https://en.wikipedia.org/wiki/RMS_Titanic'> Source</a>"
   ]
  },
  {
   "cell_type": "code",
   "execution_count": 21,
   "metadata": {
    "collapsed": false
   },
   "outputs": [
    {
     "name": "stdout",
     "output_type": "stream",
     "text": [
      "  index  Embarked\n",
      "0     S       644\n",
      "1     C       168\n",
      "2     Q        77\n"
     ]
    }
   ],
   "source": [
    "#About the ports\n",
    "ports = df_titanic['Embarked'].value_counts().reset_index()\n",
    "print (ports)"
   ]
  },
  {
   "cell_type": "markdown",
   "metadata": {},
   "source": [
    "<h2> Now that we know some things about Titanic's population and our dataset, let's take a deeper look into the data itself.</h2> "
   ]
  },
  {
   "cell_type": "markdown",
   "metadata": {},
   "source": [
    "<h4> Here are some questions I want to further investigate:</h4> \n",
    "<ul> \n",
    "<li> What gender had better chances of survival?</li>\n",
    "<li> Being third class would affect one's chance of survival?</li>\n",
    "<li> Do the Ports make any difference for the survival outcome? </li>\n",
    "<li> The women and the Titanic (this is not a question per se, but I was curious to learn more about them).</li>\n",
    "<li> Last but not least, is it possible to find Jack and Rose among the passangers? </li>\n",
    "</ul>"
   ]
  },
  {
   "cell_type": "code",
   "execution_count": 22,
   "metadata": {
    "collapsed": false
   },
   "outputs": [
    {
     "name": "stdout",
     "output_type": "stream",
     "text": [
      "             PassengerId  Survived    Pclass       Age     SibSp     Parch  \\\n",
      "PassengerId     1.000000 -0.005007 -0.035144  0.033207 -0.057527 -0.001652   \n",
      "Survived       -0.005007  1.000000 -0.338481 -0.069809 -0.035322  0.081629   \n",
      "Pclass         -0.035144 -0.338481  1.000000 -0.331339  0.083081  0.018443   \n",
      "Age             0.033207 -0.069809 -0.331339  1.000000 -0.232625 -0.179191   \n",
      "SibSp          -0.057527 -0.035322  0.083081 -0.232625  1.000000  0.414838   \n",
      "Parch          -0.001652  0.081629  0.018443 -0.179191  0.414838  1.000000   \n",
      "Fare            0.012658  0.257307 -0.549500  0.091566  0.159651  0.216225   \n",
      "\n",
      "                 Fare  \n",
      "PassengerId  0.012658  \n",
      "Survived     0.257307  \n",
      "Pclass      -0.549500  \n",
      "Age          0.091566  \n",
      "SibSp        0.159651  \n",
      "Parch        0.216225  \n",
      "Fare         1.000000  \n"
     ]
    }
   ],
   "source": [
    "#First let's see if there is any correlation between the parametric variables, specially regarding the survival \n",
    "#column.\n",
    "correlation = (df_titanic.corr())\n",
    "print(correlation)"
   ]
  },
  {
   "cell_type": "code",
   "execution_count": 23,
   "metadata": {
    "collapsed": false
   },
   "outputs": [
    {
     "data": {
      "image/png": "[encoded data removed]",
      "text/plain": [
       "<matplotlib.figure.Figure at 0x7fae15981ac8>"
      ]
     },
     "metadata": {},
     "output_type": "display_data"
    }
   ],
   "source": [
    "#Correlation matrix may help us visualize\n",
    "labels = ['PassId', 'Surv', 'Class', 'Age', 'SibSp', 'Parch','Fare']\n",
    "\n",
    "data_corr = correlation\n",
    "\n",
    "fig = plt.figure()\n",
    "ax = fig.add_subplot(111)\n",
    "cax = ax.matshow(data_corr, interpolation='nearest', cmap=cm.coolwarm, vmin= -1, vmax= 1)\n",
    "fig.colorbar(cax)\n",
    "\n",
    "ax.set_xticklabels(['']+labels)\n",
    "ax.set_yticklabels(['']+labels)\n",
    "ax.set_title('Heatmap of correlation coefficients')\n",
    "\n",
    "plt.show()"
   ]
  },
  {
   "cell_type": "markdown",
   "metadata": {},
   "source": [
    "<p> As the table and matrix show, there is a weak negative correlation between survival and class. This means that the higher the value of 'class' (i.e. 3 or 2) the lesser chance of survival had the passenger. And of course there is an obvious but yet beautiful negative correlation between fare and class.</p>"
   ]
  },
  {
   "cell_type": "markdown",
   "metadata": {},
   "source": [
    "<p> For the nominal variables (for example: sex, embarked, cabin, etc), we have to resort to other tests. The Cabin variable looks not so promising because much information is missing. However, the variable 'sex' can be of great value, in order to test if there is some correlation, I will use Fisher's test, the null hypothesis being that there is no difference between men and women.</p>"
   ]
  },
  {
   "cell_type": "code",
   "execution_count": 24,
   "metadata": {
    "collapsed": false
   },
   "outputs": [
    {
     "name": "stdout",
     "output_type": "stream",
     "text": [
      "Survived    0    1\n",
      "Sex               \n",
      "female     81  232\n",
      "male      468  107\n"
     ]
    }
   ],
   "source": [
    "#Create function to generate 2x2 table, between 2 variables:\n",
    "def gen_cross_tab( var1, var2):\n",
    "    cross_tab = pd.crosstab( var1, var2)\n",
    "    return cross_tab\n",
    "\n",
    "sex_survive = gen_cross_tab( new_df_titanic.Sex, new_df_titanic.Survived)\n",
    "print (sex_survive)"
   ]
  },
  {
   "cell_type": "code",
   "execution_count": 25,
   "metadata": {
    "collapsed": false
   },
   "outputs": [
    {
     "name": "stdout",
     "output_type": "stream",
     "text": [
      "Survived         0         1\n",
      "Sex                         \n",
      "female    0.258786  0.741214\n",
      "male      0.813913  0.186087\n"
     ]
    }
   ],
   "source": [
    "#Now let's do a simple percentage of survival for both genders, just for curiosity.\n",
    "percent_sex_survive = pd.crosstab(new_df_titanic.Sex, new_df_titanic.Survived).apply(lambda r: r/r.sum(), axis=1)\n",
    "print (percent_sex_survive)"
   ]
  },
  {
   "cell_type": "code",
   "execution_count": 26,
   "metadata": {
    "collapsed": false
   },
   "outputs": [
    {
     "data": {
      "image/png": "[encoded data removed]",
      "text/plain": [
       "<matplotlib.figure.Figure at 0x7fae15991940>"
      ]
     },
     "metadata": {},
     "output_type": "display_data"
    }
   ],
   "source": [
    "#Bar plot of percentages:\n",
    "percent_sex_survive.plot(kind='bar', stacked=True)\n",
    "plt.title('Survival vs Sex')\n",
    "plt.xlabel('Pass. Sex')\n",
    "plt.ylabel('Percent')\n",
    "plt.legend(['Not survived', 'Survived'])\n",
    "plt.show()"
   ]
  },
  {
   "cell_type": "code",
   "execution_count": 27,
   "metadata": {
    "collapsed": false
   },
   "outputs": [
    {
     "name": "stdout",
     "output_type": "stream",
     "text": [
      "12.5275181724 2.50395802426e-60\n"
     ]
    }
   ],
   "source": [
    "#It is very clear the chances were much better for women. Nonetheless, \n",
    "#let's apply the Fisher's exact test to make it even clearer:\n",
    "oddsratio, pvalue = stats.fisher_exact([[232, 81], [107, 468]]) \n",
    "print (oddsratio, pvalue)"
   ]
  },
  {
   "cell_type": "markdown",
   "metadata": {},
   "source": [
    "<p> Conclusion: the null hypothesis is refuted (p < 0.05), women had a better chance of survival (OR = 12.3, this means a woman had 12 times the odds of survival of a men).</p>"
   ]
  },
  {
   "cell_type": "code",
   "execution_count": 28,
   "metadata": {
    "collapsed": false
   },
   "outputs": [
    {
     "name": "stdout",
     "output_type": "stream",
     "text": [
      "Survived    0    1\n",
      "Pclass            \n",
      "1          80  133\n",
      "2          97   87\n",
      "3         372  119\n"
     ]
    }
   ],
   "source": [
    "#Talking about null hypothesis, let's test if the survived distribution we observed for the variable 'class' \n",
    "#is due to chance (null hypothesis). \n",
    "#Create crosstab, between 'class' and 'survival':\n",
    "class_survive = gen_cross_tab(new_df_titanic['Pclass'], new_df_titanic['Survived'])\n",
    "print(class_survive)"
   ]
  },
  {
   "cell_type": "code",
   "execution_count": 29,
   "metadata": {
    "collapsed": false
   },
   "outputs": [
    {
     "data": {
      "image/png": "[encoded data removed]",
      "text/plain": [
       "<matplotlib.figure.Figure at 0x7fae15dd74e0>"
      ]
     },
     "metadata": {},
     "output_type": "display_data"
    }
   ],
   "source": [
    "#Bar plot of survival rate (%) divided by classes:\n",
    "pct_class_survive = pd.crosstab(new_df_titanic.Pclass, new_df_titanic.Survived).apply(lambda r: r/r.sum(), axis=1)\n",
    "pct_class_survive.plot(kind='bar', stacked=True)\n",
    "plt.title('Survival vs Class')\n",
    "plt.xlabel('Pass. Class')\n",
    "plt.ylabel('Percent')\n",
    "plt.legend(['Not survived', 'Survived'])\n",
    "plt.show()"
   ]
  },
  {
   "cell_type": "code",
   "execution_count": 30,
   "metadata": {
    "collapsed": false
   },
   "outputs": [
    {
     "name": "stdout",
     "output_type": "stream",
     "text": [
      "1.90211338927e-22\n"
     ]
    }
   ],
   "source": [
    "#Chi-square independence test (null hypothesis: the differences are due to chance):\n",
    "from scipy.stats import chi2_contingency\n",
    "class_surv_obs = ([[133, 80], [87, 97], [119,372]])\n",
    "chi2, p, dof, expected = chi2_contingency(class_surv_obs)\n",
    "print(p)"
   ]
  },
  {
   "cell_type": "markdown",
   "metadata": {},
   "source": [
    "<p> Again, the null hypothesis was refuted, and in the Titanic, as a lot of times in life, it was better to be rich in the first class.</p>"
   ]
  },
  {
   "cell_type": "code",
   "execution_count": 31,
   "metadata": {
    "collapsed": false
   },
   "outputs": [
    {
     "name": "stdout",
     "output_type": "stream",
     "text": [
      "Survived    0    1\n",
      "Embarked          \n",
      "C          75   90\n",
      "Q          47   30\n",
      "S         427  217\n"
     ]
    }
   ],
   "source": [
    "#Now let's try the variable 'embarked':\n",
    "#Create crosstab, between 'Port embarked' and 'survival'\n",
    "df_embrkd_survive = gen_cross_tab(new_df_titanic['Embarked'], new_df_titanic['Survived'])\n",
    "print(df_embrkd_survive)"
   ]
  },
  {
   "cell_type": "code",
   "execution_count": 32,
   "metadata": {
    "collapsed": false
   },
   "outputs": [
    {
     "name": "stdout",
     "output_type": "stream",
     "text": [
      "5.40305439754e-06\n"
     ]
    }
   ],
   "source": [
    "#Chi-squared independence test:\n",
    "from scipy.stats import chi2_contingency\n",
    "df_embrkd_survive  = ([[90, 75], [30, 47], [217,427]])\n",
    "chi2, p, dof, expected = chi2_contingency(df_embrkd_survive)\n",
    "print (p)"
   ]
  },
  {
   "cell_type": "markdown",
   "metadata": {},
   "source": [
    "<p> It looks like again the null hypothesis can be discarded. But, to be very honest, I was not expecting this result, maybe some more analysis is needed? I suspect there could be a confusion factor in play.</p>"
   ]
  },
  {
   "cell_type": "code",
   "execution_count": 33,
   "metadata": {
    "collapsed": false
   },
   "outputs": [
    {
     "name": "stdout",
     "output_type": "stream",
     "text": [
      "Pclass      1    2    3\n",
      "Embarked               \n",
      "C          82   17   66\n",
      "Q           2    3   72\n",
      "S         127  164  353\n"
     ]
    }
   ],
   "source": [
    "#Create table embarked vs class:\n",
    "embrkd_class = gen_cross_tab(new_df_titanic['Embarked'], new_df_titanic['Pclass'])\n",
    "print(embrkd_class)"
   ]
  },
  {
   "cell_type": "code",
   "execution_count": 34,
   "metadata": {
    "collapsed": false
   },
   "outputs": [
    {
     "data": {
      "image/png": "[encoded data removed]",
      "text/plain": [
       "<matplotlib.figure.Figure at 0x7fae15978518>"
      ]
     },
     "metadata": {},
     "output_type": "display_data"
    }
   ],
   "source": [
    "#Plot of class division, by port of embarkment:\n",
    "pct_embrkd_class = pd.crosstab(new_df_titanic.Embarked,new_df_titanic.Pclass).apply(lambda r: r/r.sum(), axis=1)\n",
    "pct_embrkd_class.plot(kind='bar', stacked=True)\n",
    "plt.title('Embarked vs Class')\n",
    "plt.xlabel('Port of embarkment')\n",
    "plt.ylabel('Number of people')\n",
    "plt.legend(['1st Class', '2nd Class', '3rd Class'])\n",
    "plt.show()"
   ]
  },
  {
   "cell_type": "markdown",
   "metadata": {},
   "source": [
    "<p> So, there is in fact a distribution difference, that could be responsible for the p we have previously found. Maybe it would be nice to stratificate or create a logistic regression model to check the possibility of this correlation be due to a confounding factor (classes in this case). </p>"
   ]
  },
  {
   "cell_type": "code",
   "execution_count": 35,
   "metadata": {
    "collapsed": false
   },
   "outputs": [
    {
     "name": "stdout",
     "output_type": "stream",
     "text": [
      "   1  2  3\n",
      "0  0  0  1\n",
      "1  1  0  0\n",
      "2  0  0  1\n",
      "3  1  0  0\n",
      "4  0  0  1\n"
     ]
    }
   ],
   "source": [
    "#First we have to create dummy variables for the classes, 'get_dummies' does the one hot encoding:\n",
    "def gen_dummy_var(series):\n",
    "    dummy_var = pd.get_dummies(series)\n",
    "    return dummy_var\n",
    "dummy_class = gen_dummy_var(new_df_titanic['Pclass'])\n",
    "print(dummy_class.head())"
   ]
  },
  {
   "cell_type": "code",
   "execution_count": 36,
   "metadata": {
    "collapsed": false
   },
   "outputs": [
    {
     "name": "stdout",
     "output_type": "stream",
     "text": [
      "   Survived     Fare   Age  2  3\n",
      "0         0   7.2500  22.0  0  1\n",
      "1         1  71.2833  38.0  0  0\n",
      "2         1   7.9250  26.0  0  1\n",
      "3         1  53.1000  35.0  0  0\n",
      "4         0   8.0500  35.0  0  1\n"
     ]
    }
   ],
   "source": [
    "#Then we add the dummy variables to our dataset. The first class will be left out to avoid the so called \n",
    "#'dummy variable trap'. Source: https://en.wikipedia.org/wiki/Dummy_variable_(statistics)\n",
    "# Also, fare and age variables were added to the analysis, just for curiosity.\n",
    "columns = ['Survived', 'Fare', 'Age']\n",
    "data = new_df_titanic[columns].join(dummy_class.ix[:,'2':])\n",
    "print(data.head())"
   ]
  },
  {
   "cell_type": "code",
   "execution_count": 37,
   "metadata": {
    "collapsed": false
   },
   "outputs": [
    {
     "name": "stdout",
     "output_type": "stream",
     "text": [
      "   C  Q  S\n",
      "0  0  0  1\n",
      "1  1  0  0\n",
      "2  0  0  1\n",
      "3  0  0  1\n",
      "4  0  0  1\n"
     ]
    }
   ],
   "source": [
    "#Then repeat the process for the ports:\n",
    "dummy_emb = gen_dummy_var(new_df_titanic['Embarked'])\n",
    "print(dummy_emb.head())"
   ]
  },
  {
   "cell_type": "code",
   "execution_count": 38,
   "metadata": {
    "collapsed": false
   },
   "outputs": [
    {
     "name": "stdout",
     "output_type": "stream",
     "text": [
      "   Survived     Fare   Age  2  3  Q  S\n",
      "0         0   7.2500  22.0  0  1  0  1\n",
      "1         1  71.2833  38.0  0  0  0  0\n",
      "2         1   7.9250  26.0  0  1  0  1\n",
      "3         1  53.1000  35.0  0  0  0  1\n",
      "4         0   8.0500  35.0  0  1  0  1\n"
     ]
    }
   ],
   "source": [
    "#Due to the 'dummy variable trap', I did not create a function to join the dummy variables to the dataframe.\n",
    "data = data.join(dummy_emb.ix[:,'Q':])\n",
    "print(data.head())"
   ]
  },
  {
   "cell_type": "code",
   "execution_count": 39,
   "metadata": {
    "collapsed": false
   },
   "outputs": [
    {
     "name": "stdout",
     "output_type": "stream",
     "text": [
      "   female  male\n",
      "0       0     1\n",
      "1       1     0\n",
      "2       1     0\n",
      "3       1     0\n",
      "4       0     1\n"
     ]
    }
   ],
   "source": [
    "#Then,once more, repeat the process for the genders:\n",
    "dummy_sex = gen_dummy_var(new_df_titanic['Sex'])\n",
    "print(dummy_sex.head())"
   ]
  },
  {
   "cell_type": "code",
   "execution_count": 40,
   "metadata": {
    "collapsed": false
   },
   "outputs": [
    {
     "name": "stdout",
     "output_type": "stream",
     "text": [
      "   Survived     Fare   Age  2  3  Q  S  female\n",
      "0         0   7.2500  22.0  0  1  0  1       0\n",
      "1         1  71.2833  38.0  0  0  0  0       1\n",
      "2         1   7.9250  26.0  0  1  0  1       1\n",
      "3         1  53.1000  35.0  0  0  0  1       1\n",
      "4         0   8.0500  35.0  0  1  0  1       0\n"
     ]
    }
   ],
   "source": [
    "data = data.join(dummy_sex.ix[:,'female'])\n",
    "print(data.head())"
   ]
  },
  {
   "cell_type": "code",
   "execution_count": 41,
   "metadata": {
    "collapsed": false
   },
   "outputs": [
    {
     "name": "stdout",
     "output_type": "stream",
     "text": [
      "Optimization terminated successfully.\n",
      "         Current function value: 0.453725\n",
      "         Iterations 6\n"
     ]
    }
   ],
   "source": [
    "#Now the logit part:\n",
    "train_cols = data.columns[1:]\n",
    "logit = sm.Logit(new_df_titanic['Survived'], data[train_cols])\n",
    "result = logit.fit()"
   ]
  },
  {
   "cell_type": "code",
   "execution_count": 42,
   "metadata": {
    "collapsed": false
   },
   "outputs": [
    {
     "name": "stdout",
     "output_type": "stream",
     "text": [
      "                           Logit Regression Results                           \n",
      "==============================================================================\n",
      "Dep. Variable:               Survived   No. Observations:                  888\n",
      "Model:                          Logit   Df Residuals:                      881\n",
      "Method:                           MLE   Df Model:                            6\n",
      "Date:                Mon, 10 Jul 2017   Pseudo R-squ.:                  0.3176\n",
      "Time:                        19:08:41   Log-Likelihood:                -402.91\n",
      "converged:                       True   LL-Null:                       -590.45\n",
      "                                        LLR p-value:                 6.349e-78\n",
      "==============================================================================\n",
      "                 coef    std err          z      P>|z|      [95.0% Conf. Int.]\n",
      "------------------------------------------------------------------------------\n",
      "Fare           0.0023      0.002      0.979      0.328        -0.002     0.007\n",
      "Age           -0.0162      0.005     -3.103      0.002        -0.026    -0.006\n",
      "2             -0.5295      0.254     -2.083      0.037        -1.028    -0.031\n",
      "3             -1.7382      0.224     -7.761      0.000        -2.177    -1.299\n",
      "Q              0.2133      0.365      0.584      0.559        -0.503     0.929\n",
      "S             -0.2414      0.219     -1.101      0.271        -0.671     0.188\n",
      "female         2.6215      0.187     14.043      0.000         2.256     2.987\n",
      "==============================================================================\n"
     ]
    }
   ],
   "source": [
    "print (result.summary())"
   ]
  },
  {
   "cell_type": "code",
   "execution_count": 43,
   "metadata": {
    "collapsed": false
   },
   "outputs": [
    {
     "name": "stdout",
     "output_type": "stream",
     "text": [
      "Fare       1.002332\n",
      "Age        0.983938\n",
      "2          0.588920\n",
      "3          0.175828\n",
      "Q          1.237797\n",
      "S          0.785514\n",
      "female    13.756175\n",
      "dtype: float64\n"
     ]
    }
   ],
   "source": [
    "#It is easier to assess the OR:\n",
    "print(np.exp(result.params))"
   ]
  },
  {
   "cell_type": "markdown",
   "metadata": {},
   "source": [
    "<h3> From these results we can conclude:</h3>\n",
    "<p>\n",
    "<ul>\n",
    "<li> Once more, the variable age did not affect the survival odds.</li>\n",
    "<li> As expected, passengers of the second and third classes had worst chances of survival. Specially people in the third class: first class passengers had 6 times more their chances of survival.  </li>\n",
    "<li> As seen before, women had better chances of survival (OR = 12-13).</li>\n",
    "<li> And finally, regarding the ports, even though the ports OR's indicates different odds of survival, the confidence intervals for Q and S show us that these findings are <b> not </b> statistically significant (contain 'zero'), and should therefore be disregarded.</li>\n",
    "</ul>\n",
    "</p>"
   ]
  },
  {
   "cell_type": "markdown",
   "metadata": {},
   "source": [
    "<h2> The women and the Titanic</h2>\n",
    "<p> As we have previously learned, the chances of survival were much higher for women. What else can we learn about them? </p>"
   ]
  },
  {
   "cell_type": "code",
   "execution_count": 44,
   "metadata": {
    "collapsed": false,
    "scrolled": true
   },
   "outputs": [
    {
     "data": {
      "text/html": [
       "<div>\n",
       "<table border=\"1\" class=\"dataframe\">\n",
       "  <thead>\n",
       "    <tr style=\"text-align: right;\">\n",
       "      <th></th>\n",
       "      <th>PassengerId</th>\n",
       "      <th>Survived</th>\n",
       "      <th>Pclass</th>\n",
       "      <th>Age</th>\n",
       "      <th>SibSp</th>\n",
       "      <th>Parch</th>\n",
       "      <th>Fare</th>\n",
       "    </tr>\n",
       "  </thead>\n",
       "  <tbody>\n",
       "    <tr>\n",
       "      <th>count</th>\n",
       "      <td>313.000000</td>\n",
       "      <td>313.000000</td>\n",
       "      <td>313.000000</td>\n",
       "      <td>313.000000</td>\n",
       "      <td>313.000000</td>\n",
       "      <td>313.000000</td>\n",
       "      <td>313.000000</td>\n",
       "    </tr>\n",
       "    <tr>\n",
       "      <th>mean</th>\n",
       "      <td>431.578275</td>\n",
       "      <td>0.741214</td>\n",
       "      <td>2.162939</td>\n",
       "      <td>28.195058</td>\n",
       "      <td>0.696486</td>\n",
       "      <td>0.651757</td>\n",
       "      <td>42.985091</td>\n",
       "    </tr>\n",
       "    <tr>\n",
       "      <th>std</th>\n",
       "      <td>257.072600</td>\n",
       "      <td>0.438669</td>\n",
       "      <td>0.856143</td>\n",
       "      <td>12.892427</td>\n",
       "      <td>1.157703</td>\n",
       "      <td>1.023821</td>\n",
       "      <td>51.679053</td>\n",
       "    </tr>\n",
       "    <tr>\n",
       "      <th>min</th>\n",
       "      <td>2.000000</td>\n",
       "      <td>0.000000</td>\n",
       "      <td>1.000000</td>\n",
       "      <td>0.750000</td>\n",
       "      <td>0.000000</td>\n",
       "      <td>0.000000</td>\n",
       "      <td>6.750000</td>\n",
       "    </tr>\n",
       "    <tr>\n",
       "      <th>25%</th>\n",
       "      <td>231.000000</td>\n",
       "      <td>0.000000</td>\n",
       "      <td>1.000000</td>\n",
       "      <td>21.000000</td>\n",
       "      <td>0.000000</td>\n",
       "      <td>0.000000</td>\n",
       "      <td>12.000000</td>\n",
       "    </tr>\n",
       "    <tr>\n",
       "      <th>50%</th>\n",
       "      <td>416.000000</td>\n",
       "      <td>1.000000</td>\n",
       "      <td>2.000000</td>\n",
       "      <td>29.699118</td>\n",
       "      <td>0.000000</td>\n",
       "      <td>0.000000</td>\n",
       "      <td>23.000000</td>\n",
       "    </tr>\n",
       "    <tr>\n",
       "      <th>75%</th>\n",
       "      <td>642.000000</td>\n",
       "      <td>1.000000</td>\n",
       "      <td>3.000000</td>\n",
       "      <td>35.000000</td>\n",
       "      <td>1.000000</td>\n",
       "      <td>1.000000</td>\n",
       "      <td>55.000000</td>\n",
       "    </tr>\n",
       "    <tr>\n",
       "      <th>max</th>\n",
       "      <td>889.000000</td>\n",
       "      <td>1.000000</td>\n",
       "      <td>3.000000</td>\n",
       "      <td>63.000000</td>\n",
       "      <td>8.000000</td>\n",
       "      <td>6.000000</td>\n",
       "      <td>263.000000</td>\n",
       "    </tr>\n",
       "  </tbody>\n",
       "</table>\n",
       "</div>"
      ],
      "text/plain": [
       "       PassengerId    Survived      Pclass         Age       SibSp  \\\n",
       "count   313.000000  313.000000  313.000000  313.000000  313.000000   \n",
       "mean    431.578275    0.741214    2.162939   28.195058    0.696486   \n",
       "std     257.072600    0.438669    0.856143   12.892427    1.157703   \n",
       "min       2.000000    0.000000    1.000000    0.750000    0.000000   \n",
       "25%     231.000000    0.000000    1.000000   21.000000    0.000000   \n",
       "50%     416.000000    1.000000    2.000000   29.699118    0.000000   \n",
       "75%     642.000000    1.000000    3.000000   35.000000    1.000000   \n",
       "max     889.000000    1.000000    3.000000   63.000000    8.000000   \n",
       "\n",
       "            Parch        Fare  \n",
       "count  313.000000  313.000000  \n",
       "mean     0.651757   42.985091  \n",
       "std      1.023821   51.679053  \n",
       "min      0.000000    6.750000  \n",
       "25%      0.000000   12.000000  \n",
       "50%      0.000000   23.000000  \n",
       "75%      1.000000   55.000000  \n",
       "max      6.000000  263.000000  "
      ]
     },
     "execution_count": 44,
     "metadata": {},
     "output_type": "execute_result"
    }
   ],
   "source": [
    "# Split the dataframe, selecting only women:\n",
    "female_titanic = new_df_titanic.loc[new_df_titanic['Sex'] == 'female']\n",
    "female_titanic.describe()"
   ]
  },
  {
   "cell_type": "markdown",
   "metadata": {},
   "source": [
    " <p>As we can see, the mean age is not far from the original mean (28 y.), the oldest was 96 y.o. and the youngest less than 1 y.o. </p>"
   ]
  },
  {
   "cell_type": "markdown",
   "metadata": {
    "collapsed": false
   },
   "source": [
    "<p> From our previous results we know that women and first class passengers had a better chance of survival.\n",
    "Let's see how the women in the different classes survived:</p>\n"
   ]
  },
  {
   "cell_type": "code",
   "execution_count": 45,
   "metadata": {
    "collapsed": false,
    "scrolled": false
   },
   "outputs": [
    {
     "name": "stdout",
     "output_type": "stream",
     "text": [
      "Survived   0   1\n",
      "Pclass          \n",
      "1          3  90\n",
      "2          6  70\n",
      "3         72  72\n"
     ]
    }
   ],
   "source": [
    "#Let's see how the women in the different classes survived:\n",
    "fem_class_survive = gen_cross_tab(female_titanic.Pclass,female_titanic.Survived)\n",
    "print(fem_class_survive)"
   ]
  },
  {
   "cell_type": "code",
   "execution_count": 46,
   "metadata": {
    "collapsed": false
   },
   "outputs": [
    {
     "data": {
      "image/png": "[encoded data removed]",
      "text/plain": [
       "<matplotlib.figure.Figure at 0x7fae1577ba20>"
      ]
     },
     "metadata": {},
     "output_type": "display_data"
    }
   ],
   "source": [
    "#Clearly the survival rate was much better for the first class. In the bar plot this should be even\n",
    "#easier to spot:\n",
    "fem_class_survive.plot(kind='bar')\n",
    "plt.title('Survival in the different classes')\n",
    "plt.xlabel('Pass. Class')\n",
    "plt.ylabel('Number of people')\n",
    "plt.legend(['Not survived', 'Survived'])\n",
    "plt.show()"
   ]
  },
  {
   "cell_type": "markdown",
   "metadata": {},
   "source": [
    "<p> Clearly the first and second classes were better off.</p>"
   ]
  },
  {
   "cell_type": "markdown",
   "metadata": {},
   "source": [
    "<p> Maybe it is possible to estimate how many women were married, by filtering their titles in the name cells. I got this idea from Kunal Jain's excellent <a href = 'https://www.analyticsvidhya.com/blog/2014/09/data-munging-python-using-pandas-baby-steps-python/ '>  website</a>\n",
    "</p>"
   ]
  },
  {
   "cell_type": "code",
   "execution_count": 47,
   "metadata": {
    "collapsed": true
   },
   "outputs": [],
   "source": [
    "#Create function to extract the first names:\n",
    "def name_extractor(name):\n",
    "    last, first = name.split(',')\n",
    "    first_splited = first.split('.')\n",
    "    return first_splited[0]"
   ]
  },
  {
   "cell_type": "code",
   "execution_count": 48,
   "metadata": {
    "collapsed": false
   },
   "outputs": [
    {
     "data": {
      "text/plain": [
       " Mr              515\n",
       " Miss            181\n",
       " Mrs             125\n",
       " Master           40\n",
       " Dr                7\n",
       " Rev               6\n",
       " Mlle              2\n",
       " Major             2\n",
       " Col               2\n",
       " Lady              1\n",
       " Capt              1\n",
       " Ms                1\n",
       " Mme               1\n",
       " Sir               1\n",
       " the Countess      1\n",
       " Jonkheer          1\n",
       " Don               1\n",
       "Name: Name, dtype: int64"
      ]
     },
     "execution_count": 48,
     "metadata": {},
     "output_type": "execute_result"
    }
   ],
   "source": [
    "#Apply function:\n",
    "salutations = new_df_titanic['Name'].apply(name_extractor)\n",
    "salutations.value_counts()"
   ]
  },
  {
   "cell_type": "markdown",
   "metadata": {},
   "source": [
    "<p> There was a Countess in the Titanic! Quick Google search reveals she could be the <a href= 'https://en.wikipedia.org/wiki/No%C3%ABl_Leslie,_Countess_of_Rothes'> Countess of Rothes.</a> Now, adding all the 'Mrs', 'Ms', 'Mme', it would return aproximately the number of married women (127 in total). Considering it was 1912, I am not expecting any of the 'Dr' to be a woman, sadly.</p>"
   ]
  },
  {
   "cell_type": "markdown",
   "metadata": {},
   "source": [
    "<h2> Finding Jack and Rose </h2>"
   ]
  },
  {
   "cell_type": "markdown",
   "metadata": {},
   "source": [
    "<p> We know: \n",
    "<ul>\n",
    "<li>Rose DeWitt Bukater, first class, female, 17y.o., Southampton port</li>\n",
    "<li>Jack Dawson, third class, male</li>\n",
    "<a href = 'https://en.wikipedia.org/wiki/Titanic_(1997_film)'> Source</a>\n",
    "</ul>\n",
    "</p>  "
   ]
  },
  {
   "cell_type": "code",
   "execution_count": 49,
   "metadata": {
    "collapsed": false
   },
   "outputs": [
    {
     "name": "stdout",
     "output_type": "stream",
     "text": [
      "Empty DataFrame\n",
      "Columns: [PassengerId, Survived, Pclass, Name, Sex, Age, SibSp, Parch, Ticket, Fare, Cabin, Embarked]\n",
      "Index: []\n",
      "Empty DataFrame\n",
      "Columns: [PassengerId, Survived, Pclass, Name, Sex, Age, SibSp, Parch, Ticket, Fare, Cabin, Embarked]\n",
      "Index: []\n"
     ]
    }
   ],
   "source": [
    "#No luck searching for names\n",
    "print(df_titanic[df_titanic.Name == 'Rose DeWitt Bukater'])\n",
    "print(df_titanic[df_titanic.Name == 'Jack Dawson'])"
   ]
  },
  {
   "cell_type": "code",
   "execution_count": 50,
   "metadata": {
    "collapsed": false
   },
   "outputs": [
    {
     "name": "stdout",
     "output_type": "stream",
     "text": [
      "     PassengerId  Survived  Pclass                                       Name  \\\n",
      "778          782         1       1  Dick, Mrs. Albert Adrian (Vera Gillespie)   \n",
      "\n",
      "        Sex   Age  SibSp  Parch Ticket  Fare Cabin Embarked  \n",
      "778  female  17.0      1      0  17474  57.0   B20        S  \n"
     ]
    }
   ],
   "source": [
    "#Maybe James Cameron was protecting their identities, let's try profiles:\n",
    "seventeen = female_titanic[female_titanic.Age == 17.0]\n",
    "first_class = seventeen[seventeen.Pclass == 1]\n",
    "southhampton = first_class[first_class.Embarked == \"S\"]\n",
    "print(southhampton)"
   ]
  },
  {
   "cell_type": "code",
   "execution_count": 51,
   "metadata": {
    "collapsed": false
   },
   "outputs": [
    {
     "name": "stdout",
     "output_type": "stream",
     "text": [
      "122\n"
     ]
    }
   ],
   "source": [
    "#Interesting, it looks like our Rose is married. Let's try Jack:\n",
    "men = df_titanic[df_titanic.Sex == \"male\"]\n",
    "third_class = men[men.Pclass == 1]\n",
    "print(len(third_class.index))\n",
    "#... And we have 122 candidates for Jack! "
   ]
  },
  {
   "cell_type": "markdown",
   "metadata": {},
   "source": [
    "<p> <b>Conclusion:</b> no Rose nor Jack were found :( </p>\n"
   ]
  },
  {
   "cell_type": "markdown",
   "metadata": {},
   "source": [
    "<h2> Last words</h2>"
   ]
  },
  {
   "cell_type": "markdown",
   "metadata": {},
   "source": [
    "<h4> Finally, here are the answers for the afore mentioned questions:</h4> \n",
    "<ul> \n",
    "<li> What gender had better chances of survival?\n",
    "<br> Answer: female.</li>\n",
    "<li> Being third class would affect one's chance of survival?\n",
    "<br> Answer: Yes, and for worst.</li>\n",
    "<li> Do the Ports make any difference for the survival outcome? \n",
    "<br> Answer: No, if confounding factors are excluded.</li>\n",
    "<li> The women and the Titanic.\n",
    "<br> Answer: Despite the better chances of survival when compared to men, women from the third class had diminished chances of survival, compared to first and second class. Also, female majority was single, and there was even one Countess among the feminine passengers!</li>\n",
    "<li> Last but not least, is it possible to find Jack and Rose among the passangers?\n",
    "<br> Answer: No :( </li>\n",
    "</ul>"
   ]
  },
  {
   "cell_type": "markdown",
   "metadata": {},
   "source": [
    "<h3>Disclaimer: please note that 'correlation is not causation', and data and its analysis are subject to a variety of biases. For example, we do not know how this dataset was gathered, we do not know if people survived because they left the ship (as mentioned previously) and during the analysis, all tests have its limitations and by, for example, filling some missing data, I could  have incurred in systematic bias. </h3> "
   ]
  },
  {
   "cell_type": "markdown",
   "metadata": {},
   "source": [
    "<p> Sources:\n",
    "<ol>\n",
    "<li> <a href = 'https://en.wikipedia.org/wiki/RMS_Titanic'> Ports</a></li> \n",
    "<li><a href= 'https://en.wikipedia.org/wiki/Imputation_(statistics)'> Imputation</a></li> \n",
    "<li> <a href = 'https://en.wikipedia.org/wiki/Dummy_variable_(statistics)'> Dummy variable trap</a></li> \n",
    "<li> <a href = 'https://www.analyticsvidhya.com/blog/2014/09/data-munging-python-using-pandas-baby-steps-python/'> Kunal Jain's website </a></li>\n",
    "<li> <a href= 'https://en.wikipedia.org/wiki/No%C3%ABl_Leslie,_Countess_of_Rothes'> Countess of Rothes</a></li>\n",
    "<li> <a href = 'https://en.wikipedia.org/wiki/Titanic_(1997_film)'> Jack and Rose</a></li>\n",
    "</ol></p>"
   ]
  }
 ],
 "metadata": {
  "kernelspec": {
   "display_name": "Python 3",
   "language": "python",
   "name": "python3"
  },
  "language_info": {
   "codemirror_mode": {
    "name": "ipython",
    "version": 3
   },
   "file_extension": ".py",
   "mimetype": "text/x-python",
   "name": "python",
   "nbconvert_exporter": "python",
   "pygments_lexer": "ipython3",
   "version": "3.6.0"
  }
 },
 "nbformat": 4,
 "nbformat_minor": 2
}
